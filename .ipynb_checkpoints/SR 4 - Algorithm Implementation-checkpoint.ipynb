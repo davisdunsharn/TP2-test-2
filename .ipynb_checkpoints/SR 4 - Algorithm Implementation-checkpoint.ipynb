{
 "cells": [
  {
   "cell_type": "code",
   "execution_count": 4,
   "id": "cef8502c-c6a8-47ad-963b-69725e777d36",
   "metadata": {},
   "outputs": [],
   "source": [
    "import pandas as pd"
   ]
  },
  {
   "cell_type": "code",
   "execution_count": 5,
   "id": "43ebdb25-08a6-4733-8f0b-8ab477a89098",
   "metadata": {},
   "outputs": [],
   "source": [
    "infrastructure = pd.read_csv(r\"C:\\Users\\Mlondi\\OneDrive - Mangosuthu University of Technology\\personal\\personal\\This pc\\Documents\\infrastructure_zaf.csv\")"
   ]
  },
  {
   "cell_type": "code",
   "execution_count": 6,
   "id": "5a9258c9-b1b0-426d-a25c-834f20359d98",
   "metadata": {},
   "outputs": [
    {
     "name": "stdout",
     "output_type": "stream",
     "text": [
      "       Country Name   Country ISO3        Year  \\\n",
      "0     #country+name  #country+code  #date+year   \n",
      "1      South Africa            ZAF        2022   \n",
      "2      South Africa            ZAF        2021   \n",
      "3      South Africa            ZAF        2020   \n",
      "4      South Africa            ZAF        2019   \n",
      "...             ...            ...         ...   \n",
      "1454   South Africa            ZAF        1992   \n",
      "1455   South Africa            ZAF        1991   \n",
      "1456   South Africa            ZAF        1990   \n",
      "1457   South Africa            ZAF        1989   \n",
      "1458   South Africa            ZAF        1988   \n",
      "\n",
      "                              Indicator Name   Indicator Code  \\\n",
      "0                            #indicator+name  #indicator+code   \n",
      "1     ICT service exports (BoP, current US$)   BX.GSR.CCIS.CD   \n",
      "2     ICT service exports (BoP, current US$)   BX.GSR.CCIS.CD   \n",
      "3     ICT service exports (BoP, current US$)   BX.GSR.CCIS.CD   \n",
      "4     ICT service exports (BoP, current US$)   BX.GSR.CCIS.CD   \n",
      "...                                      ...              ...   \n",
      "1454     Personal computers (per 100 people)   IT.CMP.PCMP.P2   \n",
      "1455     Personal computers (per 100 people)   IT.CMP.PCMP.P2   \n",
      "1456     Personal computers (per 100 people)   IT.CMP.PCMP.P2   \n",
      "1457     Personal computers (per 100 people)   IT.CMP.PCMP.P2   \n",
      "1458     Personal computers (per 100 people)   IT.CMP.PCMP.P2   \n",
      "\n",
      "                     Value  \n",
      "0     #indicator+value+num  \n",
      "1                        0  \n",
      "2                        0  \n",
      "3                        0  \n",
      "4                        0  \n",
      "...                    ...  \n",
      "1454                   996  \n",
      "1455                   996  \n",
      "1456                  9967  \n",
      "1457                 99773  \n",
      "1458                 99850  \n",
      "\n",
      "[1459 rows x 6 columns]\n"
     ]
    }
   ],
   "source": [
    "# Define the insertion sort function\n",
    "def insertion_sort(arr):\n",
    "    for i in range(1, len(arr)):\n",
    "        key = arr[i]\n",
    "        j = i - 1\n",
    "        while j >= 0 and arr[j] > key:\n",
    "            arr[j + 1] = arr[j]\n",
    "            j -= 1\n",
    "        arr[j + 1] = key\n",
    "\n",
    "# Assume 'Value' column needs to be sorted\n",
    "column_to_sort = 'Value'\n",
    "\n",
    "# Apply insertion sort on the selected column\n",
    "insertion_sort(infrastructure[column_to_sort])\n",
    "\n",
    "# Print the sorted dataset\n",
    "print(infrastructure)"
   ]
  },
  {
   "cell_type": "markdown",
   "id": "a886218a-bc5b-44c0-b13e-fa460bb05f3a",
   "metadata": {},
   "source": [
    "---\n",
    "\n",
    "### Linear Search vs Binary Search\n",
    "\n",
    "**Linear Search:**\n",
    "- **Performance:** Linear search has a time complexity of O(n), where n is the number of elements in the list. This means that in the worst-case scenario, the algorithm may need to iterate through all elements in the list to find the target element.\n",
    "- **Suitability:** Linear search is suitable for small lists or unsorted lists where the elements are not in any specific order.\n",
    "- **Algorithm:** It sequentially checks each element of the list until it finds the target element or reaches the end of the list.\n",
    "\n",
    "**Binary Search:**\n",
    "- **Performance:** Binary search has a time complexity of O(log n), where n is the number of elements in the list. This means that it is significantly faster than linear search for large sorted lists.\n",
    "- **Suitability:** Binary search requires the list to be sorted. It is most effective on large sorted lists where the cost of sorting the list is outweighed by the efficiency of the search.\n",
    "- **Algorithm:** Binary search repeatedly divides the search interval in half until the target element is found or the interval is empty. It compares the target value to the middle element of the list and eliminates half of the remaining elements each time.\n",
    "\n",
    "**Comparison:**\n",
    "- For small or unsorted lists, linear search may perform comparably to binary search.\n",
    "- For large sorted lists, binary search is significantly faster due to its logarithmic time complexity.\n",
    "\n",
    "---"
   ]
  },
  {
   "cell_type": "code",
   "execution_count": 8,
   "id": "5b5ea880-a47d-4e4d-b672-57b042b12e10",
   "metadata": {},
   "outputs": [
    {
     "name": "stdout",
     "output_type": "stream",
     "text": [
      "Binary Search Result: -1\n"
     ]
    }
   ],
   "source": [
    "# Convert 'Value' column to numeric format\n",
    "infrastructure['Value'] = pd.to_numeric(infrastructure['Value'], errors='coerce')\n",
    "\n",
    "# Drop rows with NaN values in the 'Value' column\n",
    "infrastructure.dropna(subset=['Value'], inplace=True)\n",
    "\n",
    "# Sort the 'Value' column\n",
    "sorted_values = infrastructure['Value'].sort_values().tolist()\n",
    "\n",
    "# Binary search function\n",
    "def binary_search(arr, target):\n",
    "    low = 0\n",
    "    high = len(arr) - 1\n",
    "    while low <= high:\n",
    "        mid = (low + high) // 2\n",
    "        if arr[mid] == target:\n",
    "            return mid  # Return index if found\n",
    "        elif arr[mid] < target:\n",
    "            low = mid + 1\n",
    "        else:\n",
    "            high = mid - 1\n",
    "    return -1  # Return -1 if not found\n",
    "\n",
    "# Example usage:\n",
    "target_value = 63\n",
    "binary_result = binary_search(sorted_values, target_value)\n",
    "\n",
    "print(\"Binary Search Result:\", binary_result)\n"
   ]
  },
  {
   "cell_type": "code",
   "execution_count": 9,
   "id": "bb872d15-e471-4435-8029-014b61ff942f",
   "metadata": {},
   "outputs": [
    {
     "name": "stdout",
     "output_type": "stream",
     "text": [
      "Linear Search Result: -1\n"
     ]
    }
   ],
   "source": [
    "# Linear search function\n",
    "def linear_search(arr, target):\n",
    "    for i in range(len(arr)):\n",
    "        if arr[i] == target:\n",
    "            return i  # Return index if found\n",
    "    return -1  # Return -1 if not found\n",
    "\n",
    "# Example usage:\n",
    "target_value = 63\n",
    "linear_result = linear_search(sorted_values, target_value)\n",
    "\n",
    "print(\"Linear Search Result:\", linear_result)"
   ]
  },
  {
   "cell_type": "code",
   "execution_count": null,
   "id": "70d99901-6fd1-4147-927a-dccac5514650",
   "metadata": {},
   "outputs": [],
   "source": []
  }
 ],
 "metadata": {
  "kernelspec": {
   "display_name": "Python 3 (ipykernel)",
   "language": "python",
   "name": "python3"
  },
  "language_info": {
   "codemirror_mode": {
    "name": "ipython",
    "version": 3
   },
   "file_extension": ".py",
   "mimetype": "text/x-python",
   "name": "python",
   "nbconvert_exporter": "python",
   "pygments_lexer": "ipython3",
   "version": "3.12.0"
  }
 },
 "nbformat": 4,
 "nbformat_minor": 5
}
