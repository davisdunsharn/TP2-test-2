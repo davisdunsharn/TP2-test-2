{
 "cells": [
  {
   "cell_type": "markdown",
   "id": "7c6be128-fa05-4479-b366-6c71f511039e",
   "metadata": {},
   "source": [
    "### Binary Search Complexity Analysis\n",
    "\n",
    "**Time Complexity:**\n",
    "- Binary search divides the search interval in half with each iteration.\n",
    "- At each step, it eliminates half of the remaining elements.\n",
    "- Therefore, the time complexity of binary search is O(log n), where n is the number of elements in the list.\n",
    "- This means that the time taken by binary search grows logarithmically with the size of the input. It is significantly faster than linear search, especially for large datasets.\n",
    "\n",
    "**Space Complexity:**\n",
    "- Binary search typically has a space complexity of O(1).\n",
    "- It does not require any additional space proportional to the size of the input.\n",
    "- Binary search operates on the input array in place, using only a few variables for indices.\n",
    "\n",
    "**Efficiency:**\n",
    "- The efficiency of binary search is evident in its time complexity of O(log n).\n",
    "- It is particularly efficient for searching in large sorted datasets.\n",
    "- Even though it requires the list to be sorted initially, the cost of sorting is outweighed by the efficiency of the search.\n",
    "- Binary search's time complexity makes it a preferred choice for searching in large datasets or real-time applications where performance is crucial.\n"
   ]
  },
  {
   "cell_type": "code",
   "execution_count": null,
   "id": "b5ca2613-ae18-4e72-be66-fe727eca8d24",
   "metadata": {},
   "outputs": [],
   "source": []
  }
 ],
 "metadata": {
  "kernelspec": {
   "display_name": "Python 3 (ipykernel)",
   "language": "python",
   "name": "python3"
  },
  "language_info": {
   "codemirror_mode": {
    "name": "ipython",
    "version": 3
   },
   "file_extension": ".py",
   "mimetype": "text/x-python",
   "name": "python",
   "nbconvert_exporter": "python",
   "pygments_lexer": "ipython3",
   "version": "3.12.3"
  }
 },
 "nbformat": 4,
 "nbformat_minor": 5
}
