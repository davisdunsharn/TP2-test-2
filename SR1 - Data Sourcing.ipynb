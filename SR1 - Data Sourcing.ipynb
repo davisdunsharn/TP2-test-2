{
 "cells": [
  {
   "cell_type": "code",
   "execution_count": 3,
   "id": "4fdb66b2-35af-4c29-b88d-84d180bae10f",
   "metadata": {},
   "outputs": [],
   "source": [
    "import pandas as pd"
   ]
  },
  {
   "cell_type": "code",
   "execution_count": 4,
   "id": "f1851888-d624-4285-b503-a18a2b034e1b",
   "metadata": {},
   "outputs": [],
   "source": [
    "infrastructure = pd.read_csv(r\"C:\\Users\\MS Mthethwa\\Desktop\\Davis\\infrastructure_zaf.csv\")"
   ]
  },
  {
   "cell_type": "markdown",
   "id": "b98fb98c-a57d-43c1-b035-88178cf7d4d2",
   "metadata": {},
   "source": [
    "### SR1 - Data Sourcing\n",
    "\n",
    "#### Dataset Source:\n",
    "The dataset related to informal settlements was sourced from the World Bank's World Development Indicators database. It can be accessed and downloaded at the following URL: [World Bank Data](https://data.worldbank.org/indicator/EN.POP.SLUM.UR.ZS)\n",
    "\n",
    "#### Justification for Suitability:\n",
    "The dataset is suitable for analyzing informal settlements due to the following reasons:\n",
    "\n",
    "1. **Credibility of the Source**: \n",
    "   The World Bank is a reputable and well-known source for global development data, ensuring high credibility and reliability.\n",
    "\n",
    "2. **Data Completeness and Relevance**:\n",
    "   The dataset contains the following relevant columns:\n",
    "   - `Country Name`: Identifies the country, allowing for geographic-specific analysis.\n",
    "   - `Country ISO3`: Provides a standardized country code, which is useful for merging with other datasets.\n",
    "   - `Year`: Indicates the year of the data, facilitating time-series analysis.\n",
    "   - `Indicator Name`: Includes specific indicators such as \"Population living in slums (% of urban population)\".\n",
    "   - `Indicator Code`: Standardized code for the indicator.\n",
    "   - `Value`: Represents the actual data value for the indicator, essential for quantitative analysis.\n",
    "\n",
    "These columns provide a comprehensive view of the extent and distribution of informal settlements globally. For instance, the `Indicator Name` and `Value` columns directly relate to the percentage of urban population living in slums, which is central to our analysis theme.\n",
    "\n",
    "The dataset's temporal coverage allows for examining trends over time, and the geographic identifiers enable cross-country comparisons. Therefore, this dataset is well-suited for the analysis of informal settlements.\n"
   ]
  },
  {
   "cell_type": "code",
   "execution_count": null,
   "id": "03169497-6597-457d-ab0d-4b9f782fe303",
   "metadata": {},
   "outputs": [],
   "source": []
  }
 ],
 "metadata": {
  "kernelspec": {
   "display_name": "Python 3 (ipykernel)",
   "language": "python",
   "name": "python3"
  },
  "language_info": {
   "codemirror_mode": {
    "name": "ipython",
    "version": 3
   },
   "file_extension": ".py",
   "mimetype": "text/x-python",
   "name": "python",
   "nbconvert_exporter": "python",
   "pygments_lexer": "ipython3",
   "version": "3.12.3"
  }
 },
 "nbformat": 4,
 "nbformat_minor": 5
}
