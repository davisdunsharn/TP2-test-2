{
 "cells": [
  {
   "cell_type": "code",
   "execution_count": 1,
   "id": "1250468c-7e92-4f20-83af-a969adf14255",
   "metadata": {},
   "outputs": [],
   "source": [
    "import pandas as pd"
   ]
  },
  {
   "cell_type": "code",
   "execution_count": 2,
   "id": "1dec2be2-cacd-47f6-b373-a234e9c49582",
   "metadata": {},
   "outputs": [],
   "source": [
    "infrastructure = pd.read_csv(r\"C:\\Users\\Mlondi\\OneDrive - Mangosuthu University of Technology\\personal\\personal\\This pc\\Documents\\infrastructure_zaf.csv\")"
   ]
  },
  {
   "cell_type": "code",
   "execution_count": 4,
   "id": "8819947a-06de-4c84-b720-65a67184e6f6",
   "metadata": {},
   "outputs": [
    {
     "name": "stdout",
     "output_type": "stream",
     "text": [
      "    Country Name   Country ISO3        Year  \\\n",
      "0  #country+name  #country+code  #date+year   \n",
      "1   South Africa            ZAF        2022   \n",
      "2   South Africa            ZAF        2021   \n",
      "3   South Africa            ZAF        2020   \n",
      "4   South Africa            ZAF        2019   \n",
      "\n",
      "                           Indicator Name   Indicator Code  \\\n",
      "0                         #indicator+name  #indicator+code   \n",
      "1  ICT service exports (BoP, current US$)   BX.GSR.CCIS.CD   \n",
      "2  ICT service exports (BoP, current US$)   BX.GSR.CCIS.CD   \n",
      "3  ICT service exports (BoP, current US$)   BX.GSR.CCIS.CD   \n",
      "4  ICT service exports (BoP, current US$)   BX.GSR.CCIS.CD   \n",
      "\n",
      "                  Value  \n",
      "0  #indicator+value+num  \n",
      "1      943520170.443838  \n",
      "2      827150685.679581  \n",
      "3       711285343.91415  \n",
      "4      691162294.937802  \n"
     ]
    }
   ],
   "source": [
    "# Understand the dataset\n",
    "# Display the first few rows of the dataset\n",
    "print(infrastructure.head())"
   ]
  },
  {
   "cell_type": "code",
   "execution_count": 5,
   "id": "207bed27-0242-461e-b2aa-54f2a9e94152",
   "metadata": {},
   "outputs": [
    {
     "name": "stdout",
     "output_type": "stream",
     "text": [
      "Index(['Country Name', 'Country ISO3', 'Year', 'Indicator Name',\n",
      "       'Indicator Code', 'Value'],\n",
      "      dtype='object')\n"
     ]
    }
   ],
   "source": [
    "print(infrastructure.columns)"
   ]
  },
  {
   "cell_type": "code",
   "execution_count": 6,
   "id": "cd3cdd26-d214-479b-9052-90b7ce8a14c6",
   "metadata": {},
   "outputs": [
    {
     "name": "stdout",
     "output_type": "stream",
     "text": [
      "Size of the dataset: (1459, 6)\n"
     ]
    }
   ],
   "source": [
    "# Display the size of the dataset\n",
    "print(f\"Size of the dataset: {infrastructure.shape}\")"
   ]
  },
  {
   "cell_type": "code",
   "execution_count": 7,
   "id": "f73f63ab-95da-4180-b978-38949bb7455b",
   "metadata": {},
   "outputs": [
    {
     "name": "stdout",
     "output_type": "stream",
     "text": [
      "Country Name      object\n",
      "Country ISO3      object\n",
      "Year              object\n",
      "Indicator Name    object\n",
      "Indicator Code    object\n",
      "Value             object\n",
      "dtype: object\n"
     ]
    }
   ],
   "source": [
    "# Display the data types of each column\n",
    "print(infrastructure.dtypes)"
   ]
  },
  {
   "cell_type": "code",
   "execution_count": 8,
   "id": "375d2c19-da50-47c3-aa8b-e070a40fff98",
   "metadata": {},
   "outputs": [
    {
     "name": "stdout",
     "output_type": "stream",
     "text": [
      "<class 'pandas.core.frame.DataFrame'>\n",
      "RangeIndex: 1459 entries, 0 to 1458\n",
      "Data columns (total 6 columns):\n",
      " #   Column          Non-Null Count  Dtype \n",
      "---  ------          --------------  ----- \n",
      " 0   Country Name    1459 non-null   object\n",
      " 1   Country ISO3    1459 non-null   object\n",
      " 2   Year            1459 non-null   object\n",
      " 3   Indicator Name  1459 non-null   object\n",
      " 4   Indicator Code  1459 non-null   object\n",
      " 5   Value           1459 non-null   object\n",
      "dtypes: object(6)\n",
      "memory usage: 68.5+ KB\n",
      "None\n"
     ]
    }
   ],
   "source": [
    "# Display basic information about the dataset\n",
    "print(infrastructure.info())"
   ]
  },
  {
   "cell_type": "code",
   "execution_count": 9,
   "id": "6027a3a0-71c3-4aed-a59f-c358b2339993",
   "metadata": {},
   "outputs": [
    {
     "name": "stdout",
     "output_type": "stream",
     "text": [
      "Missing values in each column:\n",
      "Country Name      0\n",
      "Country ISO3      0\n",
      "Year              0\n",
      "Indicator Name    0\n",
      "Indicator Code    0\n",
      "Value             0\n",
      "dtype: int64\n"
     ]
    }
   ],
   "source": [
    "# Identify missing data\n",
    "# Count missing values in each column\n",
    "missing_values = infrastructure.isnull().sum()\n",
    "print(\"Missing values in each column:\")\n",
    "print(missing_values)"
   ]
  },
  {
   "cell_type": "code",
   "execution_count": 10,
   "id": "a5368324-558c-4dc3-8f50-49f8564a33e2",
   "metadata": {},
   "outputs": [
    {
     "name": "stdout",
     "output_type": "stream",
     "text": [
      "Country Name      0\n",
      "Country ISO3      0\n",
      "Year              0\n",
      "Indicator Name    0\n",
      "Indicator Code    0\n",
      "Value             0\n",
      "dtype: int64\n"
     ]
    }
   ],
   "source": [
    "# Check for missing data\n",
    "print(infrastructure.isnull().sum())"
   ]
  },
  {
   "cell_type": "code",
   "execution_count": 15,
   "id": "67d3783e-be36-430a-8773-36e4b1f6e839",
   "metadata": {},
   "outputs": [],
   "source": [
    "from sklearn.preprocessing import StandardScaler"
   ]
  },
  {
   "cell_type": "code",
   "execution_count": 17,
   "id": "ceedf106-6a8c-4dd5-9743-99d8bac83168",
   "metadata": {},
   "outputs": [
    {
     "name": "stdout",
     "output_type": "stream",
     "text": [
      "float64\n",
      "Empty DataFrame\n",
      "Columns: [Country Name, Country ISO3, Year, Indicator Name, Indicator Code, Value]\n",
      "Index: []\n",
      "    Country Name   Country ISO3        Year  \\\n",
      "0  #country+name  #country+code  #date+year   \n",
      "1   South Africa            ZAF        2022   \n",
      "2   South Africa            ZAF        2021   \n",
      "3   South Africa            ZAF        2020   \n",
      "4   South Africa            ZAF        2019   \n",
      "\n",
      "                           Indicator Name   Indicator Code         Value  \n",
      "0                         #indicator+name  #indicator+code -1.790229e-17  \n",
      "1  ICT service exports (BoP, current US$)   BX.GSR.CCIS.CD -1.797355e-02  \n",
      "2  ICT service exports (BoP, current US$)   BX.GSR.CCIS.CD -3.146552e-02  \n",
      "3  ICT service exports (BoP, current US$)   BX.GSR.CCIS.CD -4.489903e-02  \n",
      "4  ICT service exports (BoP, current US$)   BX.GSR.CCIS.CD -4.723211e-02  \n"
     ]
    }
   ],
   "source": [
    "# Check the data type of 'Value' column\n",
    "print(infrastructure['Value'].dtype)\n",
    "\n",
    "# Inspect non-numeric values\n",
    "non_numeric_values = infrastructure[pd.to_numeric(infrastructure['Value'], errors='coerce').isna()]\n",
    "print(non_numeric_values)\n",
    "\n",
    "# Convert the 'Value' column to numeric, coercing errors to NaN\n",
    "infrastructure['Value'] = pd.to_numeric(infrastructure['Value'], errors='coerce')\n",
    "\n",
    "# Fill NaN values with the mean of the 'Value' column\n",
    "infrastructure['Value'] = infrastructure['Value'].fillna(infrastructure['Value'].mean())\n",
    "\n",
    "# Normalize the 'Value' column if it's numerical\n",
    "scaler = StandardScaler()\n",
    "infrastructure['Value'] = scaler.fit_transform(infrastructure[['Value']])\n",
    "\n",
    "# Now you can proceed with your analysis or further processing\n",
    "print(infrastructure.head())\n"
   ]
  },
  {
   "cell_type": "markdown",
   "id": "9c113b13-9f17-4ac4-a3bf-2898d44a407b",
   "metadata": {},
   "source": [
    "### Data Types in Relation to Machine Learning\n",
    "\n",
    "In the context of machine learning, data types in our dataset can be categorized as follows:\n",
    "\n",
    "- **Categorical Data**: These are columns that contain categorical values. For example, 'Country Name' and 'Indicator Name' are categorical as they contain distinct categories or classes.\n",
    "- **Numerical Data**: These are columns that contain numerical values. The 'Year' and 'Value' columns are numerical. 'Year' is a discrete numerical feature, while 'Value' is a continuous numerical feature.\n",
    "- **Text Data**: These are columns that contain text. In our dataset, 'Country Name' and 'Indicator Name' can also be considered text data.\n",
    "- **Identifier Columns**: These columns serve as identifiers and are not typically used directly in machine learning models. 'Country ISO3' and 'Indicator Code' serve as identifiers.\n",
    "\n",
    "#### Example Column Analysis: 'Value'\n",
    "- **Data Type**: Continuous Numerical\n",
    "- **Use in Machine Learning**: This column can be used as a feature in regression tasks where we predict a continuous outcome or as a target variable in such tasks. It may also require normalization or standardization depending on the algorithm being used.\n",
    "\n",
    "#### Example Column Analysis: 'Country Name'\n",
    "- **Data Type**: Categorical\n",
    "- **Use in Machine Learning**: This column can be used as a categorical feature in classification tasks. Machine learning models can handle this column by encoding it using techniques like one-hot encoding or label encoding.\n"
   ]
  },
  {
   "cell_type": "code",
   "execution_count": null,
   "id": "8ee8548c-0ea2-4cf6-a17f-ae6d821f89da",
   "metadata": {},
   "outputs": [],
   "source": []
  }
 ],
 "metadata": {
  "kernelspec": {
   "display_name": "Python 3 (ipykernel)",
   "language": "python",
   "name": "python3"
  },
  "language_info": {
   "codemirror_mode": {
    "name": "ipython",
    "version": 3
   },
   "file_extension": ".py",
   "mimetype": "text/x-python",
   "name": "python",
   "nbconvert_exporter": "python",
   "pygments_lexer": "ipython3",
   "version": "3.12.0"
  }
 },
 "nbformat": 4,
 "nbformat_minor": 5
}
